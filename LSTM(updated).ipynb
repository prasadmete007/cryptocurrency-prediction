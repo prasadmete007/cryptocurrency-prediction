{
 "cells": [
  {
   "cell_type": "markdown",
   "id": "af4e84bd",
   "metadata": {},
   "source": [
    "# Neural Network Model (LSTM) on Bitcoin Historical Data"
   ]
  },
  {
   "cell_type": "markdown",
   "id": "53e160bd",
   "metadata": {},
   "source": [
    "#### *TEAM B*"
   ]
  },
  {
   "cell_type": "markdown",
   "id": "aaad1827",
   "metadata": {},
   "source": [
    "### Importing essential libraries"
   ]
  },
  {
   "cell_type": "code",
   "execution_count": 1,
   "id": "d30a13f4",
   "metadata": {},
   "outputs": [],
   "source": [
    "import numpy as np\n",
    "import pandas as pd\n",
    "import matplotlib.pyplot as plt"
   ]
  },
  {
   "cell_type": "markdown",
   "id": "320de88d",
   "metadata": {},
   "source": [
    "### Reading the pickle file"
   ]
  },
  {
   "cell_type": "code",
   "execution_count": 71,
   "id": "146169f5",
   "metadata": {
    "scrolled": false
   },
   "outputs": [
    {
     "data": {
      "text/html": [
       "<div>\n",
       "<style scoped>\n",
       "    .dataframe tbody tr th:only-of-type {\n",
       "        vertical-align: middle;\n",
       "    }\n",
       "\n",
       "    .dataframe tbody tr th {\n",
       "        vertical-align: top;\n",
       "    }\n",
       "\n",
       "    .dataframe thead th {\n",
       "        text-align: right;\n",
       "    }\n",
       "</style>\n",
       "<table border=\"1\" class=\"dataframe\">\n",
       "  <thead>\n",
       "    <tr style=\"text-align: right;\">\n",
       "      <th></th>\n",
       "      <th>Date</th>\n",
       "      <th>Price</th>\n",
       "      <th>Open</th>\n",
       "      <th>High</th>\n",
       "      <th>Low</th>\n",
       "      <th>Vol.</th>\n",
       "      <th>Change %</th>\n",
       "    </tr>\n",
       "  </thead>\n",
       "  <tbody>\n",
       "    <tr>\n",
       "      <th>0</th>\n",
       "      <td>3/9/2024</td>\n",
       "      <td>262.9</td>\n",
       "      <td>68,389.70</td>\n",
       "      <td>68,920.10</td>\n",
       "      <td>66,601.40</td>\n",
       "      <td>78.07K</td>\n",
       "      <td>-1.17%</td>\n",
       "    </tr>\n",
       "    <tr>\n",
       "      <th>1</th>\n",
       "      <td>3/9/2024</td>\n",
       "      <td>269.6</td>\n",
       "      <td>65,314.20</td>\n",
       "      <td>68,857.70</td>\n",
       "      <td>64,605.50</td>\n",
       "      <td>66.07K</td>\n",
       "      <td>4.71%</td>\n",
       "    </tr>\n",
       "    <tr>\n",
       "      <th>2</th>\n",
       "      <td>3/9/2024</td>\n",
       "      <td>261.7</td>\n",
       "      <td>69,456.50</td>\n",
       "      <td>70,037.00</td>\n",
       "      <td>64,971.00</td>\n",
       "      <td>75.82K</td>\n",
       "      <td>-5.97%</td>\n",
       "    </tr>\n",
       "    <tr>\n",
       "      <th>3</th>\n",
       "      <td>3/9/2024</td>\n",
       "      <td>263.8</td>\n",
       "      <td>71,387.10</td>\n",
       "      <td>72,398.10</td>\n",
       "      <td>65,765.60</td>\n",
       "      <td>148.59K</td>\n",
       "      <td>-2.69%</td>\n",
       "    </tr>\n",
       "    <tr>\n",
       "      <th>4</th>\n",
       "      <td>3/9/2024</td>\n",
       "      <td>269.8</td>\n",
       "      <td>73,066.70</td>\n",
       "      <td>73,740.90</td>\n",
       "      <td>68,717.20</td>\n",
       "      <td>109.43K</td>\n",
       "      <td>-2.30%</td>\n",
       "    </tr>\n",
       "  </tbody>\n",
       "</table>\n",
       "</div>"
      ],
      "text/plain": [
       "       Date  Price       Open       High        Low     Vol. Change %\n",
       "0  3/9/2024  262.9  68,389.70  68,920.10  66,601.40   78.07K   -1.17%\n",
       "1  3/9/2024  269.6  65,314.20  68,857.70  64,605.50   66.07K    4.71%\n",
       "2  3/9/2024  261.7  69,456.50  70,037.00  64,971.00   75.82K   -5.97%\n",
       "3  3/9/2024  263.8  71,387.10  72,398.10  65,765.60  148.59K   -2.69%\n",
       "4  3/9/2024  269.8  73,066.70  73,740.90  68,717.20  109.43K   -2.30%"
      ]
     },
     "execution_count": 71,
     "metadata": {},
     "output_type": "execute_result"
    }
   ],
   "source": [
    "#df = pd.read_pickle(\"./df.pkl\")    # reading 1 yr cleaned data pickle file\n",
    "df = pd.read_csv('./Bitcoin Historical Data.csv')    # reading 5 yr cleaned data pickle file\n",
    "df.head()"
   ]
  },
  {
   "cell_type": "code",
   "execution_count": null,
   "id": "9e8d4a63",
   "metadata": {},
   "outputs": [],
   "source": []
  },
  {
   "cell_type": "code",
   "execution_count": 70,
   "id": "e1dd17f2",
   "metadata": {},
   "outputs": [
    {
     "data": {
      "text/html": [
       "<div>\n",
       "<style scoped>\n",
       "    .dataframe tbody tr th:only-of-type {\n",
       "        vertical-align: middle;\n",
       "    }\n",
       "\n",
       "    .dataframe tbody tr th {\n",
       "        vertical-align: top;\n",
       "    }\n",
       "\n",
       "    .dataframe thead th {\n",
       "        text-align: right;\n",
       "    }\n",
       "</style>\n",
       "<table border=\"1\" class=\"dataframe\">\n",
       "  <thead>\n",
       "    <tr style=\"text-align: right;\">\n",
       "      <th></th>\n",
       "      <th>Date</th>\n",
       "      <th>Price</th>\n",
       "      <th>Open</th>\n",
       "      <th>High</th>\n",
       "      <th>Low</th>\n",
       "      <th>Vol.</th>\n",
       "      <th>Change %</th>\n",
       "    </tr>\n",
       "  </thead>\n",
       "  <tbody>\n",
       "    <tr>\n",
       "      <th>4988</th>\n",
       "      <td>7/22/2010</td>\n",
       "      <td>0.1</td>\n",
       "      <td>0.1</td>\n",
       "      <td>0.1</td>\n",
       "      <td>0.1</td>\n",
       "      <td>2.16K</td>\n",
       "      <td>0.00%</td>\n",
       "    </tr>\n",
       "    <tr>\n",
       "      <th>4989</th>\n",
       "      <td>7/21/2010</td>\n",
       "      <td>0.1</td>\n",
       "      <td>0.1</td>\n",
       "      <td>0.1</td>\n",
       "      <td>0.1</td>\n",
       "      <td>0.58K</td>\n",
       "      <td>0.00%</td>\n",
       "    </tr>\n",
       "    <tr>\n",
       "      <th>4990</th>\n",
       "      <td>7/20/2010</td>\n",
       "      <td>0.1</td>\n",
       "      <td>0.1</td>\n",
       "      <td>0.1</td>\n",
       "      <td>0.1</td>\n",
       "      <td>0.26K</td>\n",
       "      <td>0.00%</td>\n",
       "    </tr>\n",
       "    <tr>\n",
       "      <th>4991</th>\n",
       "      <td>7/19/2010</td>\n",
       "      <td>0.1</td>\n",
       "      <td>0.1</td>\n",
       "      <td>0.1</td>\n",
       "      <td>0.1</td>\n",
       "      <td>0.57K</td>\n",
       "      <td>0.00%</td>\n",
       "    </tr>\n",
       "    <tr>\n",
       "      <th>4992</th>\n",
       "      <td>7/18/2010</td>\n",
       "      <td>0.1</td>\n",
       "      <td>0</td>\n",
       "      <td>0.1</td>\n",
       "      <td>0.1</td>\n",
       "      <td>0.08K</td>\n",
       "      <td>0.00%</td>\n",
       "    </tr>\n",
       "  </tbody>\n",
       "</table>\n",
       "</div>"
      ],
      "text/plain": [
       "           Date Price Open High  Low   Vol. Change %\n",
       "4988  7/22/2010   0.1  0.1  0.1  0.1  2.16K    0.00%\n",
       "4989  7/21/2010   0.1  0.1  0.1  0.1  0.58K    0.00%\n",
       "4990  7/20/2010   0.1  0.1  0.1  0.1  0.26K    0.00%\n",
       "4991  7/19/2010   0.1  0.1  0.1  0.1  0.57K    0.00%\n",
       "4992  7/18/2010   0.1    0  0.1  0.1  0.08K    0.00%"
      ]
     },
     "execution_count": 70,
     "metadata": {},
     "output_type": "execute_result"
    }
   ],
   "source": [
    "df.tail()"
   ]
  },
  {
   "cell_type": "markdown",
   "id": "a6fdfb0c",
   "metadata": {},
   "source": [
    "### Scaling the data"
   ]
  },
  {
   "cell_type": "code",
   "execution_count": 35,
   "id": "359767b0",
   "metadata": {},
   "outputs": [],
   "source": [
    "from sklearn import preprocessing\n",
    "from sklearn.preprocessing import MinMaxScaler"
   ]
  },
  {
   "cell_type": "code",
   "execution_count": 38,
   "id": "25b1e704",
   "metadata": {},
   "outputs": [],
   "source": [
    "# min_max_scaler = preprocessing.MinMaxScaler(feature_range=(0, 1))\n",
    "# ds = min_max_scaler.fit_transform(df['Price'].values.reshape(-1, 1))\n",
    "# Remove commas and convert to float\n",
    "df['Price'] = df['Price'].str.replace(',', '').astype(float)\n",
    "\n",
    "# Now proceed with the MinMaxScaler\n",
    "min_max_scaler = preprocessing.MinMaxScaler(feature_range=(0, 1))\n",
    "ds = min_max_scaler.fit_transform(df['Price'].values.reshape(-1, 1))\n"
   ]
  },
  {
   "cell_type": "code",
   "execution_count": 39,
   "id": "fc250b24",
   "metadata": {},
   "outputs": [],
   "source": [
    "train_size = int(len(ds) * 0.7)\n",
    "test_size = len(ds)-train_size\n",
    "train = ds[:train_size]\n",
    "test = ds[train_size:]"
   ]
  },
  {
   "cell_type": "code",
   "execution_count": 40,
   "id": "272e38bc",
   "metadata": {
    "scrolled": true
   },
   "outputs": [
    {
     "name": "stdout",
     "output_type": "stream",
     "text": [
      "Train size:  3495\n",
      "Test size:  1498\n"
     ]
    }
   ],
   "source": [
    "print(\"Train size: \", len(train))\n",
    "print(\"Test size: \", len(test))"
   ]
  },
  {
   "cell_type": "markdown",
   "id": "7baff1b1",
   "metadata": {},
   "source": [
    "### Train / Test distribution"
   ]
  },
  {
   "cell_type": "code",
   "execution_count": 41,
   "id": "03a85b2c",
   "metadata": {},
   "outputs": [],
   "source": [
    "look_back = 15\n",
    "\n",
    "dataX, dataY = [], []\n",
    "for i in range(look_back, train.shape[0]):\n",
    "    dataX.append(train[i-look_back:i])\n",
    "    dataY.append(train[i,0])\n",
    "x_train = np.array(dataX)\n",
    "y_train = np.array(dataY)"
   ]
  },
  {
   "cell_type": "code",
   "execution_count": 42,
   "id": "6c638a40",
   "metadata": {},
   "outputs": [],
   "source": [
    "dataX, dataY = [], []\n",
    "for i in range(look_back, test.shape[0]):\n",
    "    dataX.append(test[i-look_back:i])\n",
    "    dataY.append(test[i,0])\n",
    "x_test = np.array(dataX)\n",
    "y_test = np.array(dataY)"
   ]
  },
  {
   "cell_type": "code",
   "execution_count": 43,
   "id": "40e4bf20",
   "metadata": {},
   "outputs": [
    {
     "name": "stdout",
     "output_type": "stream",
     "text": [
      "X-Train shape: (3480, 15, 1)\n",
      "Y-Train shape: (3480,)\n",
      "X-Test shape: (1483, 15, 1)\n",
      "Y-Test shape: (1483,)\n"
     ]
    }
   ],
   "source": [
    "print(\"X-Train shape:\", x_train.shape)\n",
    "print(\"Y-Train shape:\", y_train.shape)\n",
    "print(\"X-Test shape:\", x_test.shape)\n",
    "print(\"Y-Test shape:\", y_test.shape)"
   ]
  },
  {
   "cell_type": "markdown",
   "id": "b9961bb6",
   "metadata": {},
   "source": [
    "### Creating the model"
   ]
  },
  {
   "cell_type": "code",
   "execution_count": 44,
   "id": "0dcc7821",
   "metadata": {},
   "outputs": [],
   "source": [
    "from keras import Sequential\n",
    "from keras.layers import Dense, Dropout, LSTM\n",
    "from tensorflow.keras.optimizers import Adam"
   ]
  },
  {
   "cell_type": "code",
   "execution_count": 45,
   "id": "3e44fd48",
   "metadata": {},
   "outputs": [],
   "source": [
    "model = Sequential()\n",
    "model.add(LSTM(150, activation='tanh', input_shape=(x_train.shape[1], 1)))\n",
    "model.add(Dense(1))\n",
    "\n",
    "adam = Adam(\n",
    "    learning_rate=0.00001,\n",
    "    beta_1=0.001,\n",
    "    beta_2=0.01,\n",
    "    epsilon=1e-07,\n",
    "    amsgrad=False,\n",
    ")\n",
    "\n",
    "model.compile(loss='mean_squared_error', optimizer='adam')"
   ]
  },
  {
   "cell_type": "code",
   "execution_count": 46,
   "id": "1f5026af",
   "metadata": {},
   "outputs": [],
   "source": [
    "np.random.seed(7)"
   ]
  },
  {
   "cell_type": "code",
   "execution_count": 47,
   "id": "8d2dcb03",
   "metadata": {},
   "outputs": [
    {
     "name": "stdout",
     "output_type": "stream",
     "text": [
      "Model: \"sequential_1\"\n",
      "_________________________________________________________________\n",
      " Layer (type)                Output Shape              Param #   \n",
      "=================================================================\n",
      " lstm_1 (LSTM)               (None, 150)               91200     \n",
      "                                                                 \n",
      " dense_1 (Dense)             (None, 1)                 151       \n",
      "                                                                 \n",
      "=================================================================\n",
      "Total params: 91,351\n",
      "Trainable params: 91,351\n",
      "Non-trainable params: 0\n",
      "_________________________________________________________________\n"
     ]
    }
   ],
   "source": [
    "model.summary()"
   ]
  },
  {
   "cell_type": "markdown",
   "id": "59bead8f",
   "metadata": {},
   "source": [
    "### Training the Model"
   ]
  },
  {
   "cell_type": "code",
   "execution_count": 48,
   "id": "b8fb7797",
   "metadata": {},
   "outputs": [
    {
     "name": "stdout",
     "output_type": "stream",
     "text": [
      "Epoch 1/50\n",
      "218/218 [==============================] - 3s 8ms/step - loss: 0.0020 - val_loss: 4.5590e-07\n",
      "Epoch 2/50\n",
      "218/218 [==============================] - 1s 6ms/step - loss: 8.4860e-04 - val_loss: 1.5938e-06\n",
      "Epoch 3/50\n",
      "218/218 [==============================] - 1s 5ms/step - loss: 6.7010e-04 - val_loss: 1.2646e-05\n",
      "Epoch 4/50\n",
      "218/218 [==============================] - 1s 5ms/step - loss: 5.8969e-04 - val_loss: 1.2096e-05\n",
      "Epoch 5/50\n",
      "218/218 [==============================] - 1s 5ms/step - loss: 5.8360e-04 - val_loss: 4.1485e-06\n",
      "Epoch 6/50\n",
      "218/218 [==============================] - 1s 6ms/step - loss: 6.2867e-04 - val_loss: 2.2022e-06\n",
      "Epoch 7/50\n",
      "218/218 [==============================] - 1s 6ms/step - loss: 4.6993e-04 - val_loss: 5.2631e-07\n",
      "Epoch 8/50\n",
      "218/218 [==============================] - 1s 6ms/step - loss: 4.5360e-04 - val_loss: 7.0483e-07\n",
      "Epoch 9/50\n",
      "218/218 [==============================] - 1s 6ms/step - loss: 4.7560e-04 - val_loss: 9.8308e-05\n",
      "Epoch 10/50\n",
      "218/218 [==============================] - 1s 5ms/step - loss: 4.9906e-04 - val_loss: 3.2995e-07\n",
      "Epoch 11/50\n",
      "218/218 [==============================] - 1s 5ms/step - loss: 4.1135e-04 - val_loss: 2.4354e-06\n",
      "Epoch 12/50\n",
      "218/218 [==============================] - 1s 6ms/step - loss: 3.9335e-04 - val_loss: 3.1295e-06\n",
      "Epoch 13/50\n",
      "218/218 [==============================] - 1s 6ms/step - loss: 3.6436e-04 - val_loss: 1.7709e-04\n",
      "Epoch 14/50\n",
      "218/218 [==============================] - 1s 5ms/step - loss: 4.2378e-04 - val_loss: 2.0986e-07\n",
      "Epoch 15/50\n",
      "218/218 [==============================] - 1s 5ms/step - loss: 3.8693e-04 - val_loss: 1.9523e-07\n",
      "Epoch 16/50\n",
      "218/218 [==============================] - 1s 5ms/step - loss: 3.4859e-04 - val_loss: 8.2207e-06\n",
      "Epoch 17/50\n",
      "218/218 [==============================] - 1s 6ms/step - loss: 4.0444e-04 - val_loss: 1.0764e-06\n",
      "Epoch 18/50\n",
      "218/218 [==============================] - 1s 6ms/step - loss: 3.6943e-04 - val_loss: 1.8500e-05\n",
      "Epoch 19/50\n",
      "218/218 [==============================] - 1s 7ms/step - loss: 3.5310e-04 - val_loss: 1.8561e-06\n",
      "Epoch 20/50\n",
      "218/218 [==============================] - 1s 6ms/step - loss: 3.8780e-04 - val_loss: 1.8864e-04\n",
      "Epoch 21/50\n",
      "218/218 [==============================] - 2s 7ms/step - loss: 3.9783e-04 - val_loss: 1.8971e-04\n",
      "Epoch 22/50\n",
      "218/218 [==============================] - 2s 7ms/step - loss: 3.6252e-04 - val_loss: 1.3876e-05\n",
      "Epoch 23/50\n",
      "218/218 [==============================] - 2s 7ms/step - loss: 3.1144e-04 - val_loss: 1.3690e-06\n",
      "Epoch 24/50\n",
      "218/218 [==============================] - 1s 7ms/step - loss: 4.0307e-04 - val_loss: 3.8944e-07\n",
      "Epoch 25/50\n",
      "218/218 [==============================] - 2s 7ms/step - loss: 3.5260e-04 - val_loss: 3.5184e-06\n",
      "Epoch 26/50\n",
      "218/218 [==============================] - 2s 7ms/step - loss: 3.4269e-04 - val_loss: 7.9588e-07\n",
      "Epoch 27/50\n",
      "218/218 [==============================] - 1s 7ms/step - loss: 3.5449e-04 - val_loss: 2.2108e-06\n",
      "Epoch 28/50\n",
      "218/218 [==============================] - 1s 7ms/step - loss: 3.4477e-04 - val_loss: 4.2145e-06\n",
      "Epoch 29/50\n",
      "218/218 [==============================] - 2s 8ms/step - loss: 3.7145e-04 - val_loss: 2.0509e-07\n",
      "Epoch 30/50\n",
      "218/218 [==============================] - 1s 7ms/step - loss: 3.4247e-04 - val_loss: 5.6340e-04\n",
      "Epoch 31/50\n",
      "218/218 [==============================] - 1s 7ms/step - loss: 3.6230e-04 - val_loss: 4.5522e-06\n",
      "Epoch 32/50\n",
      "218/218 [==============================] - 1s 7ms/step - loss: 3.7378e-04 - val_loss: 7.6177e-06\n",
      "Epoch 33/50\n",
      "218/218 [==============================] - 1s 7ms/step - loss: 3.3555e-04 - val_loss: 2.1888e-07\n",
      "Epoch 34/50\n",
      "218/218 [==============================] - 1s 7ms/step - loss: 3.3387e-04 - val_loss: 8.2163e-06\n",
      "Epoch 35/50\n",
      "218/218 [==============================] - 2s 7ms/step - loss: 3.4424e-04 - val_loss: 1.5949e-05\n",
      "Epoch 36/50\n",
      "218/218 [==============================] - 1s 7ms/step - loss: 3.4748e-04 - val_loss: 2.7911e-05\n",
      "Epoch 37/50\n",
      "218/218 [==============================] - 2s 7ms/step - loss: 3.4955e-04 - val_loss: 4.0596e-04\n",
      "Epoch 38/50\n",
      "218/218 [==============================] - 1s 7ms/step - loss: 3.5328e-04 - val_loss: 4.1774e-04\n",
      "Epoch 39/50\n",
      "218/218 [==============================] - 2s 8ms/step - loss: 3.6073e-04 - val_loss: 1.1346e-05\n",
      "Epoch 40/50\n",
      "218/218 [==============================] - 2s 8ms/step - loss: 3.4315e-04 - val_loss: 2.5832e-06\n",
      "Epoch 41/50\n",
      "218/218 [==============================] - 2s 8ms/step - loss: 3.4133e-04 - val_loss: 1.3131e-05\n",
      "Epoch 42/50\n",
      "218/218 [==============================] - 2s 8ms/step - loss: 3.1264e-04 - val_loss: 7.4313e-05\n",
      "Epoch 43/50\n",
      "218/218 [==============================] - 2s 7ms/step - loss: 3.5296e-04 - val_loss: 1.0678e-06\n",
      "Epoch 44/50\n",
      "218/218 [==============================] - 2s 7ms/step - loss: 3.2967e-04 - val_loss: 1.7930e-07\n",
      "Epoch 45/50\n",
      "218/218 [==============================] - 2s 8ms/step - loss: 3.4264e-04 - val_loss: 4.2709e-06\n",
      "Epoch 46/50\n",
      "218/218 [==============================] - 2s 7ms/step - loss: 3.4556e-04 - val_loss: 1.3915e-05\n",
      "Epoch 47/50\n",
      "218/218 [==============================] - 2s 7ms/step - loss: 3.4744e-04 - val_loss: 2.2275e-06\n",
      "Epoch 48/50\n",
      "218/218 [==============================] - 2s 7ms/step - loss: 3.4316e-04 - val_loss: 1.0989e-05\n",
      "Epoch 49/50\n",
      "218/218 [==============================] - 1s 7ms/step - loss: 3.4222e-04 - val_loss: 1.1177e-06\n",
      "Epoch 50/50\n",
      "218/218 [==============================] - 1s 7ms/step - loss: 3.4419e-04 - val_loss: 7.0550e-06\n"
     ]
    }
   ],
   "source": [
    "history = model.fit(x_train, y_train, validation_data=(x_test, y_test), epochs=50, batch_size=16, verbose=1)"
   ]
  },
  {
   "cell_type": "code",
   "execution_count": 49,
   "id": "e0665751",
   "metadata": {},
   "outputs": [],
   "source": [
    "loss = history.history['loss']\n",
    "val_loss = history.history['val_loss']"
   ]
  },
  {
   "cell_type": "markdown",
   "id": "6b39fb97",
   "metadata": {},
   "source": [
    "### Predicting"
   ]
  },
  {
   "cell_type": "code",
   "execution_count": 50,
   "id": "9500086d",
   "metadata": {},
   "outputs": [],
   "source": [
    "trainPredict = model.predict(x_train)\n",
    "testPredict = model.predict(x_test)"
   ]
  },
  {
   "cell_type": "code",
   "execution_count": 51,
   "id": "6f9871af",
   "metadata": {},
   "outputs": [
    {
     "name": "stdout",
     "output_type": "stream",
     "text": [
      "Train shape: (3480, 1)\n",
      "Test shape: (1483, 1)\n"
     ]
    }
   ],
   "source": [
    "print(\"Train shape:\", trainPredict.shape)\n",
    "print(\"Test shape:\", testPredict.shape)"
   ]
  },
  {
   "cell_type": "markdown",
   "id": "bafbdf6e",
   "metadata": {},
   "source": [
    "### Inverting predictions"
   ]
  },
  {
   "cell_type": "code",
   "execution_count": 52,
   "id": "0587dc4e",
   "metadata": {},
   "outputs": [],
   "source": [
    "trainPredict = min_max_scaler.inverse_transform(trainPredict)\n",
    "trainY = min_max_scaler.inverse_transform([y_train])\n",
    "trainY = trainY.reshape(y_train.shape)\n",
    "\n",
    "testPredict = min_max_scaler.inverse_transform(testPredict)\n",
    "testY = min_max_scaler.inverse_transform([y_test])\n",
    "testY = testY.reshape(y_test.shape)"
   ]
  },
  {
   "cell_type": "markdown",
   "id": "03b9fdaa",
   "metadata": {},
   "source": [
    "### Root mean squared error"
   ]
  },
  {
   "cell_type": "code",
   "execution_count": 53,
   "id": "10009450",
   "metadata": {},
   "outputs": [
    {
     "name": "stdout",
     "output_type": "stream",
     "text": [
      "Train Score: 1238.64 RMSE\n",
      "Test Score: 168.77 RMSE\n"
     ]
    }
   ],
   "source": [
    "from sklearn.metrics import mean_squared_error\n",
    "from math import sqrt\n",
    "import math\n",
    "\n",
    "trainScore = math.sqrt(mean_squared_error(trainY, trainPredict))\n",
    "print('Train Score: %.2f RMSE' % (trainScore))\n",
    "\n",
    "testScore = math.sqrt(mean_squared_error(testY, testPredict))\n",
    "print('Test Score: %.2f RMSE' % (testScore))"
   ]
  },
  {
   "cell_type": "markdown",
   "id": "9f39c550",
   "metadata": {},
   "source": [
    "### Shifting train and test predictions for plotting"
   ]
  },
  {
   "cell_type": "code",
   "execution_count": 54,
   "id": "c5feeb22",
   "metadata": {},
   "outputs": [],
   "source": [
    "trainPredictPlot = np.empty_like(ds)\n",
    "trainPredictPlot[:, :] = np.nan\n",
    "trainPredictPlot[look_back:len(trainPredict)+look_back, :] = trainPredict\n",
    "\n",
    "testPredictPlot = np.empty_like(ds)\n",
    "testPredictPlot[:, :] = np.nan\n",
    "testPredictPlot[len(trainPredict)+(look_back*2):len(ds), :] = testPredict"
   ]
  },
  {
   "cell_type": "markdown",
   "id": "ca720c2e",
   "metadata": {},
   "source": [
    "### Plotting baseline and predictions"
   ]
  },
  {
   "cell_type": "code",
   "execution_count": 55,
   "id": "da9e1117",
   "metadata": {
    "scrolled": false
   },
   "outputs": [
    {
     "data": {
      "image/png": "[encoded data removed]",
      "text/plain": [
       "<Figure size 1500x700 with 1 Axes>"
      ]
     },
     "metadata": {},
     "output_type": "display_data"
    }
   ],
   "source": [
    "plt.figure(figsize=(15,7))\n",
    "plt.plot(min_max_scaler.inverse_transform(ds))\n",
    "plt.plot(trainPredictPlot)\n",
    "plt.plot(testPredictPlot)\n",
    "plt.legend([\"Recorded Price Value\", \"Test Price Predict\", \"Train Price Predict\" ], loc=2)\n",
    "plt.ylabel('Price Value')\n",
    "plt.xlabel('Day')\n",
    "plt.show()"
   ]
  },
  {
   "cell_type": "markdown",
   "id": "b87789d4",
   "metadata": {},
   "source": [
    "### R2 and Variance Score"
   ]
  },
  {
   "cell_type": "code",
   "execution_count": 56,
   "id": "066983e5",
   "metadata": {},
   "outputs": [
    {
     "name": "stdout",
     "output_type": "stream",
     "text": [
      "R squared value on Train data: 0.9900078578315814\n",
      "R squared value on Test data: 0.5624942218006235\n"
     ]
    }
   ],
   "source": [
    "from sklearn.metrics import r2_score\n",
    "print(\"R squared value on Train data:\", r2_score(trainY,trainPredict))\n",
    "print(\"R squared value on Test data:\", r2_score(testY,testPredict))"
   ]
  },
  {
   "cell_type": "code",
   "execution_count": 57,
   "id": "5a522a2a",
   "metadata": {},
   "outputs": [
    {
     "name": "stdout",
     "output_type": "stream",
     "text": [
      "Variance value on Train data: 0.9913450467274292\n",
      "Variance value on Test data: 0.9870387806899461\n"
     ]
    }
   ],
   "source": [
    "from sklearn.metrics import explained_variance_score\n",
    "print(\"Variance value on Train data:\", explained_variance_score(trainY,trainPredict))\n",
    "print(\"Variance value on Test data:\", explained_variance_score(testY,testPredict))"
   ]
  },
  {
   "cell_type": "markdown",
   "id": "b349f3cd",
   "metadata": {},
   "source": [
    "### Predicting for next n days and Visualization"
   ]
  },
  {
   "cell_type": "code",
   "execution_count": 58,
   "id": "20368846",
   "metadata": {},
   "outputs": [],
   "source": [
    "x_input = test[len(test)-look_back:].reshape(1,-1)"
   ]
  },
  {
   "cell_type": "code",
   "execution_count": 59,
   "id": "843343a9",
   "metadata": {},
   "outputs": [],
   "source": [
    "temp_input=list(x_input)\n",
    "temp_input=temp_input[0].tolist()"
   ]
  },
  {
   "cell_type": "code",
   "execution_count": 60,
   "id": "af495309",
   "metadata": {},
   "outputs": [
    {
     "name": "stdout",
     "output_type": "stream",
     "text": [
      "[[0.0025116726756095886], [0.004844415932893753], [0.007454507052898407], [0.010178133845329285], [0.013051141053438187], [0.016087893396615982], [0.01928119920194149], [0.02261958457529545], [0.02609587088227272], [0.029708825051784515], [0.03346213698387146], [0.037362903356552124], [0.04142032936215401], [0.045644860714673996], [0.050047632306814194]]\n"
     ]
    }
   ],
   "source": [
    "from numpy import array\n",
    "\n",
    "lst_output=[]\n",
    "i=0\n",
    "n=15   # next number of days for which we are predicting\n",
    "while(i<n):\n",
    "    x_input.shape\n",
    "    \n",
    "    if(len(temp_input)>look_back):\n",
    "        x_input=np.array(temp_input[1:])\n",
    "        x_input=x_input.reshape(1,-1)\n",
    "        x_input = x_input.reshape((1, look_back, 1))\n",
    "        yhat = model.predict(x_input, verbose=0)\n",
    "        temp_input.extend(yhat[0].tolist())\n",
    "        temp_input=temp_input[1:]\n",
    "        lst_output.extend(yhat.tolist())\n",
    "        i=i+1\n",
    "    else:\n",
    "        x_input = x_input.reshape((1, look_back,1))\n",
    "        yhat = model.predict(x_input, verbose=0)\n",
    "        temp_input.extend(yhat[0].tolist())\n",
    "        lst_output.extend(yhat.tolist())\n",
    "        i=i+1\n",
    "    \n",
    "\n",
    "print(lst_output)"
   ]
  },
  {
   "cell_type": "code",
   "execution_count": 61,
   "id": "ce1e4523",
   "metadata": {},
   "outputs": [],
   "source": [
    "day_new=np.arange(1, look_back+1)\n",
    "day_pred=np.arange(look_back+1, look_back+n+1)"
   ]
  },
  {
   "cell_type": "code",
   "execution_count": 62,
   "id": "a4e5038b",
   "metadata": {},
   "outputs": [
    {
     "data": {
      "text/plain": [
       "[<matplotlib.lines.Line2D at 0x22e0a99ff10>]"
      ]
     },
     "execution_count": 62,
     "metadata": {},
     "output_type": "execute_result"
    },
    {
     "data": {
      "image/png": "[encoded data removed]",
      "text/plain": [
       "<Figure size 640x480 with 1 Axes>"
      ]
     },
     "metadata": {},
     "output_type": "display_data"
    }
   ],
   "source": [
    "plt.plot(day_new, min_max_scaler.inverse_transform(ds[len(ds)-look_back:]))\n",
    "plt.plot(day_pred, min_max_scaler.inverse_transform(lst_output))"
   ]
  },
  {
   "cell_type": "markdown",
   "id": "b06c9b4f",
   "metadata": {},
   "source": [
    "* Blue curve shows the data for last 15 days of the given data and orange curve show the predicted data for next 15 days based on the blue curve data"
   ]
  },
  {
   "cell_type": "code",
   "execution_count": 63,
   "id": "a828d7a1",
   "metadata": {},
   "outputs": [
    {
     "data": {
      "text/plain": [
       "[<matplotlib.lines.Line2D at 0x22e096d7a60>]"
      ]
     },
     "execution_count": 63,
     "metadata": {},
     "output_type": "execute_result"
    },
    {
     "data": {
      "image/png": "[encoded data removed]",
      "text/plain": [
       "<Figure size 1500x700 with 1 Axes>"
      ]
     },
     "metadata": {},
     "output_type": "display_data"
    }
   ],
   "source": [
    "plt.figure(figsize=(15,7))\n",
    "df0=ds.tolist()\n",
    "df0.extend(lst_output)\n",
    "plt.plot(df0[2000:])"
   ]
  },
  {
   "cell_type": "markdown",
   "id": "407b10c3",
   "metadata": {},
   "source": [
    "* Predicted data of the prevous step is appended to the original data (here shown from day 2000 onwards)"
   ]
  },
  {
   "cell_type": "code",
   "execution_count": 64,
   "id": "37cd7772",
   "metadata": {},
   "outputs": [
    {
     "data": {
      "text/plain": [
       "[<matplotlib.lines.Line2D at 0x22e0a927400>]"
      ]
     },
     "execution_count": 64,
     "metadata": {},
     "output_type": "execute_result"
    },
    {
     "data": {
      "image/png": "[encoded data removed]",
      "text/plain": [
       "<Figure size 1500x700 with 1 Axes>"
      ]
     },
     "metadata": {},
     "output_type": "display_data"
    }
   ],
   "source": [
    "plt.figure(figsize=(15,7))\n",
    "df0=min_max_scaler.inverse_transform(df0).tolist()\n",
    "plt.plot(df0)"
   ]
  },
  {
   "cell_type": "markdown",
   "id": "64be0748",
   "metadata": {},
   "source": [
    "* Predicted data appended to the original data, complete data shown here"
   ]
  },
  {
   "cell_type": "code",
   "execution_count": 66,
   "id": "49a34e98",
   "metadata": {},
   "outputs": [
    {
     "name": "stdout",
     "output_type": "stream",
     "text": [
      "Saved model to disk\n"
     ]
    }
   ],
   "source": [
    "# serialize model to JSON\n",
    "model_json = model.to_json()\n",
    "with open(\"model.json\", \"w\") as json_file:\n",
    "    json_file.write(model_json)\n",
    "# serialize weights to HDF5\n",
    "model.save_weights(\"model.h5\")\n",
    "print(\"Saved model to disk\")"
   ]
  },
  {
   "cell_type": "code",
   "execution_count": null,
   "id": "0a7bf0d6",
   "metadata": {},
   "outputs": [],
   "source": []
  }
 ],
 "metadata": {
  "kernelspec": {
   "display_name": "Python 3 (ipykernel)",
   "language": "python",
   "name": "python3"
  },
  "language_info": {
   "codemirror_mode": {
    "name": "ipython",
    "version": 3
   },
   "file_extension": ".py",
   "mimetype": "text/x-python",
   "name": "python",
   "nbconvert_exporter": "python",
   "pygments_lexer": "ipython3",
   "version": "3.10.3"
  }
 },
 "nbformat": 4,
 "nbformat_minor": 5
}
